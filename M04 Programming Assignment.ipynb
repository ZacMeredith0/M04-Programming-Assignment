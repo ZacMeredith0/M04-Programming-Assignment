{
 "cells": [
  {
   "cell_type": "markdown",
   "id": "6fa999d9",
   "metadata": {},
   "source": [
    "11.1"
   ]
  },
  {
   "cell_type": "code",
   "execution_count": 4,
   "id": "8a7e354a",
   "metadata": {},
   "outputs": [
    {
     "name": "stdout",
     "output_type": "stream",
     "text": [
      "Open 9-5 daily\n"
     ]
    }
   ],
   "source": [
    "def hours():\n",
    "    print(\"Open 9-5 daily\")\n",
    "\n",
    "hours()\n"
   ]
  },
  {
   "cell_type": "markdown",
   "id": "b1cee4b1",
   "metadata": {},
   "source": [
    "11.2"
   ]
  },
  {
   "cell_type": "code",
   "execution_count": null,
   "id": "7aaec428",
   "metadata": {},
   "outputs": [],
   "source": [
    "import zoo as menagerie\n",
    "menagerie.hours()"
   ]
  }
 ],
 "metadata": {
  "kernelspec": {
   "display_name": "Python 3 (ipykernel)",
   "language": "python",
   "name": "python3"
  },
  "language_info": {
   "codemirror_mode": {
    "name": "ipython",
    "version": 3
   },
   "file_extension": ".py",
   "mimetype": "text/x-python",
   "name": "python",
   "nbconvert_exporter": "python",
   "pygments_lexer": "ipython3",
   "version": "3.11.5"
  }
 },
 "nbformat": 4,
 "nbformat_minor": 5
}
